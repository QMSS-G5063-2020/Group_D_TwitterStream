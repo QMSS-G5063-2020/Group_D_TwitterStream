{
  "nbformat": 4,
  "nbformat_minor": 0,
  "metadata": {
    "colab": {
      "name": "Twitter.ipynb",
      "provenance": [],
      "toc_visible": true
    },
    "kernelspec": {
      "name": "python3",
      "display_name": "Python 3"
    }
  },
  "cells": [
    {
      "cell_type": "markdown",
      "metadata": {
        "id": "FqXvebZSNpxU",
        "colab_type": "text"
      },
      "source": [
        "## Tweepy API Set-Up"
      ]
    },
    {
      "cell_type": "code",
      "metadata": {
        "id": "oorbI3rImfQp",
        "colab_type": "code",
        "outputId": "d7df6bea-b11a-4957-a1ce-c85a4d9c7ed0",
        "colab": {
          "base_uri": "https://localhost:8080/",
          "height": 193
        }
      },
      "source": [
        "!pip install tweepy"
      ],
      "execution_count": 0,
      "outputs": [
        {
          "output_type": "stream",
          "text": [
            "Requirement already satisfied: tweepy in /usr/local/lib/python3.6/dist-packages (3.6.0)\n",
            "Requirement already satisfied: requests-oauthlib>=0.7.0 in /usr/local/lib/python3.6/dist-packages (from tweepy) (1.3.0)\n",
            "Requirement already satisfied: requests>=2.11.1 in /usr/local/lib/python3.6/dist-packages (from tweepy) (2.21.0)\n",
            "Requirement already satisfied: six>=1.10.0 in /usr/local/lib/python3.6/dist-packages (from tweepy) (1.12.0)\n",
            "Requirement already satisfied: PySocks>=1.5.7 in /usr/local/lib/python3.6/dist-packages (from tweepy) (1.7.1)\n",
            "Requirement already satisfied: oauthlib>=3.0.0 in /usr/local/lib/python3.6/dist-packages (from requests-oauthlib>=0.7.0->tweepy) (3.1.0)\n",
            "Requirement already satisfied: idna<2.9,>=2.5 in /usr/local/lib/python3.6/dist-packages (from requests>=2.11.1->tweepy) (2.8)\n",
            "Requirement already satisfied: certifi>=2017.4.17 in /usr/local/lib/python3.6/dist-packages (from requests>=2.11.1->tweepy) (2019.11.28)\n",
            "Requirement already satisfied: chardet<3.1.0,>=3.0.2 in /usr/local/lib/python3.6/dist-packages (from requests>=2.11.1->tweepy) (3.0.4)\n",
            "Requirement already satisfied: urllib3<1.25,>=1.21.1 in /usr/local/lib/python3.6/dist-packages (from requests>=2.11.1->tweepy) (1.24.3)\n"
          ],
          "name": "stdout"
        }
      ]
    },
    {
      "cell_type": "code",
      "metadata": {
        "id": "dGD1HXpemr6J",
        "colab_type": "code",
        "colab": {}
      },
      "source": [
        "import tweepy\n",
        "import pandas as pd"
      ],
      "execution_count": 0,
      "outputs": []
    },
    {
      "cell_type": "code",
      "metadata": {
        "id": "T6SFGz-hm0WK",
        "colab_type": "code",
        "colab": {}
      },
      "source": [
        "ckey=\"37PWOOA3Ufj4yFJAvn7kH4ocX\"\n",
        "csecret=\"cUMxyTKUuiYw5tEGL0NjQ4utCoXmzTQG2H7leZxUqmYthgsrQK\"\n",
        "atoken=\"955975812-MIu6rEdMBgTwCcxBz6mTDZrzsPk9W36nCxnOaFpH\"\n",
        "asecret=\"Lra3hBdFBg8rMjd1vmjyrC00eBa90Tasqa9njx89plx08\"\n",
        "\n",
        "auth = tweepy.OAuthHandler(ckey, csecret)\n",
        "auth.set_access_token(atoken, asecret)\n",
        "\n",
        "api = tweepy.API(auth, wait_on_rate_limit=True, wait_on_rate_limit_notify=True)"
      ],
      "execution_count": 0,
      "outputs": []
    },
    {
      "cell_type": "markdown",
      "metadata": {
        "id": "5-OuWKmgNnjS",
        "colab_type": "text"
      },
      "source": [
        "## Experimenting"
      ]
    },
    {
      "cell_type": "code",
      "metadata": {
        "id": "shTk89c7nfnj",
        "colab_type": "code",
        "outputId": "b18da42a-8d5e-4664-80b6-53d3ed52295e",
        "colab": {
          "base_uri": "https://localhost:8080/",
          "height": 404
        }
      },
      "source": [
        "user = api.get_user('jdragsky')\n",
        "\n",
        "print(user.screen_name)\n",
        "print(user.followers_count)\n",
        "for friend in user.friends():\n",
        "   print(friend.screen_name)"
      ],
      "execution_count": 0,
      "outputs": [
        {
          "output_type": "stream",
          "text": [
            "jdragsky\n",
            "862\n",
            "ExaltedFuneral\n",
            "Spwack\n",
            "NightinGem\n",
            "MnemonicRpg\n",
            "wanwuslibrary\n",
            "urwronglol\n",
            "sublimemarch\n",
            "jerskann\n",
            "audreyotherway\n",
            "King_Crackers\n",
            "thejessleigh\n",
            "quinnntastic_\n",
            "bigdipperstan\n",
            "Drooling_Demon\n",
            "codexnoirmatic\n",
            "DakotaSkyBloom\n",
            "Rathayibacter\n",
            "LeviathanFiles\n",
            "natashaence\n",
            "onlavenderwings\n"
          ],
          "name": "stdout"
        }
      ]
    },
    {
      "cell_type": "code",
      "metadata": {
        "id": "LVLxMIw0XyA0",
        "colab_type": "code",
        "outputId": "2972a4ae-a878-4463-a71a-a7bf6441da21",
        "colab": {
          "base_uri": "https://localhost:8080/",
          "height": 211
        }
      },
      "source": [
        "#test_status = pd.DataFrame(api.get_status(1226512561832591360))\n",
        "#print(test_status)\n",
        "#https://twitter.com/SarahCullison/status/1226314461415342080\n",
        "\n",
        "test_status = api.get_status(1226314461415342080)\n",
        "\n",
        "print('EGO SOURCE TWEET INFO')\n",
        "print('favorite count: ' + str(test_status._json['favorite_count']))\n",
        "print('retweet count: '+ str(test_status._json['retweet_count']))\n",
        "print('is this a retweet? ' + str(test_status.retweeted))\n",
        "print(\"\")\n",
        "print('SOURCE USER INFO')\n",
        "print('favorites count: ' + str(test_status._json['user']['favourites_count']))\n",
        "print('followers count: ' + str(test_status._json['user']['followers_count']))\n",
        "print('friends count: ' + str(test_status._json['user']['friends_count']))\n",
        "print('id: ' + str(test_status._json['user']['id']))\n",
        "print('statuses count: ' + str(test_status._json['user']['statuses_count']))"
      ],
      "execution_count": 0,
      "outputs": [
        {
          "output_type": "stream",
          "text": [
            "EGO SOURCE TWEET INFO\n",
            "favorite count: 330\n",
            "retweet count: 98\n",
            "is this a retweet? False\n",
            "\n",
            "SOURCE USER INFO\n",
            "favorites count: 252\n",
            "followers count: 887\n",
            "friends count: 1369\n",
            "id: 723368133562527745\n",
            "statuses count: 2257\n"
          ],
          "name": "stdout"
        }
      ]
    },
    {
      "cell_type": "markdown",
      "metadata": {
        "id": "7mdykVUu_252",
        "colab_type": "text"
      },
      "source": [
        "## Edge List"
      ]
    },
    {
      "cell_type": "code",
      "metadata": {
        "id": "qPRB5rmpE_lv",
        "colab_type": "code",
        "outputId": "3d8ad84a-9ba6-49be-8aac-7e11a3a7945a",
        "colab": {
          "base_uri": "https://localhost:8080/",
          "height": 107
        }
      },
      "source": [
        "!pip install flatten_json\n",
        "\n",
        "import flatten_json"
      ],
      "execution_count": 0,
      "outputs": [
        {
          "output_type": "stream",
          "text": [
            "Collecting flatten_json\n",
            "  Downloading https://files.pythonhosted.org/packages/eb/a9/1e35abfc4726065f9692decb3c57cf379e5d5329befc6fa5a1ab835fffb8/flatten_json-0.1.7-py3-none-any.whl\n",
            "Installing collected packages: flatten-json\n",
            "Successfully installed flatten-json-0.1.7\n"
          ],
          "name": "stdout"
        }
      ]
    },
    {
      "cell_type": "code",
      "metadata": {
        "id": "PbDv4lIFwFlz",
        "colab_type": "code",
        "colab": {}
      },
      "source": [
        "test_retweets = api.retweets(1226314461415342080)\n",
        "test_retweeters = api.retweeters(1226314461415342080)\n",
        "\n",
        "test = []\n",
        "\n",
        "for i in range(0,len(test_retweets)):\n",
        "  test.append(flatten_json.flatten_json(test_retweets[i]._json))\n",
        "\n",
        "retweet_df = pd.io.json.json_normalize(test)\n",
        "#list(testdf.columns)\n",
        "#retweet_df\n",
        "\n",
        "len(test_retweeters)"
      ],
      "execution_count": 0,
      "outputs": []
    },
    {
      "cell_type": "code",
      "metadata": {
        "id": "QZkzJu40lTwF",
        "colab_type": "code",
        "colab": {}
      },
      "source": [
        "retweeter_names = []\n",
        "\n",
        "for r in test_retweeters:\n",
        "  retweeter_names.append(api.get_user(r)._json['screen_name'])"
      ],
      "execution_count": 0,
      "outputs": []
    },
    {
      "cell_type": "code",
      "metadata": {
        "id": "GAlg_AaCIdq4",
        "colab_type": "code",
        "colab": {}
      },
      "source": [
        "V1 = list()\n",
        "V2 = list()\n",
        "\n",
        "def checkFollow(sourceid, targetid):\n",
        "  relation = api.show_friendship(source_screen_name=sourceid, \n",
        "                                 target_screen_name=targetid)\n",
        "  if relation[0].following and not relation[1].following:\n",
        "    V1.append(sourceid)\n",
        "    V2.append(targetid)\n",
        "  elif relation[1].following and not relation[0].following:\n",
        "    V1.append(targetid)\n",
        "    V2.append(sourceid)\n",
        "  elif relation[0].following and relation[1].following:\n",
        "    V1.append(targetid)\n",
        "    V2.append(sourceid)\n",
        "    V1.append(sourceid)\n",
        "    V2.append(targetid)\n",
        "  #return(relation[0].following, relation[1].following)"
      ],
      "execution_count": 0,
      "outputs": []
    },
    {
      "cell_type": "code",
      "metadata": {
        "id": "hTESX9pGWQrr",
        "colab_type": "code",
        "colab": {}
      },
      "source": [
        "from itertools import combinations\n",
        "\n",
        "cnt = 0\n",
        "\n",
        "for l in list(combinations(retweeter_names, 2)):\n",
        "  cnt += 1\n",
        "  print(cnt)\n",
        "  checkFollow(l[0], l[1])\n"
      ],
      "execution_count": 0,
      "outputs": []
    },
    {
      "cell_type": "code",
      "metadata": {
        "id": "dlBW9BoZjPBB",
        "colab_type": "code",
        "colab": {}
      },
      "source": [
        "reblog_edges = pd.DataFrame({\"V1\":V1,\"V2\":V2})\n",
        "\n",
        "reblog_edges.to_csv(\"retweet_edges2.csv\")"
      ],
      "execution_count": 0,
      "outputs": []
    },
    {
      "cell_type": "markdown",
      "metadata": {
        "id": "hGk-AyMA_aIn",
        "colab_type": "text"
      },
      "source": [
        "## Node List"
      ]
    },
    {
      "cell_type": "code",
      "metadata": {
        "id": "J1wKdmlc7bqC",
        "colab_type": "code",
        "colab": {}
      },
      "source": [
        "V3 = set(reblog_edges.V1)\n",
        "\n",
        "for v in reblog_edges.V2:\n",
        "  V3.add(v)\n",
        "\n",
        "V3 = list(V3)\n",
        "\n",
        "retweet_nodes = pd.DataFrame({\"names\":list(set(V3))})"
      ],
      "execution_count": 0,
      "outputs": []
    },
    {
      "cell_type": "code",
      "metadata": {
        "colab_type": "code",
        "id": "HuiAdR60ArQ2",
        "colab": {}
      },
      "source": [
        "retweeter_ids = []\n",
        "\n",
        "for v in V3:\n",
        "  retweeter_ids.append(api.get_user(v)._json['id'])\n",
        "\n",
        "retweet_nodes['uuid'] = retweeter_ids"
      ],
      "execution_count": 0,
      "outputs": []
    },
    {
      "cell_type": "code",
      "metadata": {
        "id": "DAtUZG6g_ZN3",
        "colab_type": "code",
        "colab": {}
      },
      "source": [
        "favourites_count = list()\n",
        "lang = list()\n",
        "followers_count = list()\n",
        "description = list()\n",
        "friends_count = list()\n",
        "listed_count = list()\n",
        "statuses_count = list()\n",
        "\n",
        "for i in retweet_nodes.uuid:\n",
        "  favourites_count.append(api.get_user(i)._json['favourites_count'])\n",
        "  lang.append(api.get_user(i)._json['lang'])\n",
        "  followers_count.append(api.get_user(i)._json['followers_count'])\n",
        "  description.append(api.get_user(i)._json['description'])\n",
        "  friends_count.append(api.get_user(i)._json['friends_count'])\n",
        "  listed_count.append(api.get_user(i)._json['listed_count'])\n",
        "  statuses_count.append(api.get_user(i)._json['statuses_count'])"
      ],
      "execution_count": 0,
      "outputs": []
    },
    {
      "cell_type": "code",
      "metadata": {
        "id": "UjfnbPV6FSrW",
        "colab_type": "code",
        "colab": {}
      },
      "source": [
        "retweet_nodes['favourites_count'] = favourites_count\n",
        "retweet_nodes['lang'] = lang\n",
        "retweet_nodes['followers_count'] = followers_count\n",
        "retweet_nodes['description'] = description\n",
        "retweet_nodes['friends_count'] = friends_count\n",
        "retweet_nodes['listed_count'] = listed_count\n",
        "retweet_nodes['statuses_count'] = statuses_count"
      ],
      "execution_count": 0,
      "outputs": []
    },
    {
      "cell_type": "code",
      "metadata": {
        "id": "tDTGoPPUF2Rx",
        "colab_type": "code",
        "colab": {}
      },
      "source": [
        "retweet_nodes.to_csv(\"retweet_nodes.csv\")"
      ],
      "execution_count": 0,
      "outputs": []
    }
  ]
}